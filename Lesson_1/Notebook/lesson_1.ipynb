{
 "cells": [
  {
   "cell_type": "markdown",
   "id": "06df18f4",
   "metadata": {},
   "source": [
    "# Lesson 1: Graph Algorithms - BFS and DFS"
   ]
  },
  {
   "cell_type": "markdown",
   "id": "4fcf79ea",
   "metadata": {},
   "source": [
    "## Section 1: Binary Tree \n"
   ]
  },
  {
   "cell_type": "markdown",
   "id": "75f59230",
   "metadata": {},
   "source": [
    "Create a deep binary tree with 4 levels, visualize it, and test BFS and DFS traversal."
   ]
  },
  {
   "cell_type": "code",
   "execution_count": null,
   "id": "93b9f528",
   "metadata": {},
   "outputs": [],
   "source": [
    "import networkx as nx\n",
    "import matplotlib.pyplot as plt\n",
    "from collections import deque"
   ]
  },
  {
   "cell_type": "markdown",
   "id": "a4e1eb7c",
   "metadata": {},
   "source": [
    "### Creating and Visualizing the Binary Tree\n"
   ]
  },
  {
   "cell_type": "markdown",
   "id": "e1d006d1",
   "metadata": {},
   "source": [
    "This code cell performs the following steps:\n",
    "1. **Create a balanced binary tree**: Uses NetworkX's `balanced_tree(2, 3)` to generate a complete binary tree with 4 levels (15 nodes total).\n",
    "2. **Define hierarchical positioning function**: Implements `hierarchical_pos()` to arrange nodes in a top-to-bottom tree layout, ensuring consistent visualization.\n",
    "3. **Compute node positions**: Calls the positioning function with root node 0 to get coordinates for each node.\n",
    "4. **Map nodes to letters**: Creates a dictionary mapping node numbers (0-14) to letters (A-O) for more intuitive labeling.\n",
    "5. **Visualize the tree**: Draws the graph using the computed positions, letter labels, and large node size (1300) for clear display."
   ]
  },
  {
   "cell_type": "code",
   "execution_count": null,
   "id": "a68b472a",
   "metadata": {},
   "outputs": [],
   "source": [
    "# Create a deep binary tree with 4 levels\n",
    "G_binary = nx.balanced_tree(2, 3)\n",
    "\n",
    "def hierarchical_pos(G, root=None, width=1., vert_gap=0.2, vert_loc=0, xcenter=0.5):\n",
    "    '''If there is a cycle, the function will fail.'''\n",
    "    if not nx.is_tree(G):\n",
    "        raise TypeError('cannot use hierarchy_pos on a graph that is not a tree')\n",
    "    def _hierarchy_pos(G, root, width=1., vert_gap=0.2, vert_loc=0, xcenter=0.5, pos=None, parent=None):\n",
    "        if pos is None:\n",
    "            pos = {root: (xcenter, vert_loc)}\n",
    "        else:\n",
    "            pos[root] = (xcenter, vert_loc)\n",
    "        children = list(G.neighbors(root))\n",
    "        if parent is not None:\n",
    "            children.remove(parent)\n",
    "        if len(children) != 0:\n",
    "            dx = width / len(children)\n",
    "            nextx = xcenter - width/2 - dx/2\n",
    "            for child in children:\n",
    "                nextx += dx\n",
    "                pos = _hierarchy_pos(G, child, width=dx, vert_gap=vert_gap, vert_loc=vert_loc-vert_gap, xcenter=nextx, pos=pos, parent=root)\n",
    "        return pos\n",
    "    return _hierarchy_pos(G, root, width, vert_gap, vert_loc, xcenter)\n",
    "\n",
    "pos = hierarchical_pos(G_binary, 0)\n",
    "\n",
    "# Map node numbers to letters\n",
    "node_letters = {i: chr(65 + i) for i in range(len(G_binary.nodes()))}\n",
    "\n",
    "# Visualize the binary tree\n",
    "nx.draw(G_binary, pos=pos, labels=node_letters, node_size=1300)\n",
    "plt.show()"
   ]
  },
  {
   "cell_type": "markdown",
   "id": "7cc6c549",
   "metadata": {},
   "source": [
    "### Breadth-First Search (BFS) Traversal\n"
   ]
  },
  {
   "cell_type": "markdown",
   "id": "23ebc856",
   "metadata": {},
   "source": [
    "**How BFS Works Intuitively:**\n",
    "BFS explores the graph level by level, like ripples spreading out from a stone thrown in water. It visits all neighbors of a node before moving to the next level, ensuring the shortest path in unweighted graphs. Think of it as exploring a building floor by floor - you check all rooms on the current floor before going upstairs.\n",
    "\n",
    "**Key Characteristics:**\n",
    "- Uses a **queue** (First In, First Out) to keep track of nodes to visit next\n",
    "- Visits nodes in order of their distance from the start (closest first)\n",
    "- Guarantees the shortest path in terms of number of edges\n",
    "\n",
    "This code cell demonstrates BFS traversal on the binary tree:\n",
    "1. **Initialize visit order list**: Creates an empty list to track the order nodes are visited.\n",
    "2. **Define BFS function**: Implements iterative BFS using a queue, marking nodes as visited and collecting them in order.\n",
    "3. **Run BFS from root**: Starts traversal from node 0 (root), collecting all nodes in level-order.\n",
    "4. **Map nodes to letters**: Recreates the letter mapping for consistency.\n",
    "5. **Print visit order**: Displays the BFS sequence using letter labels (e.g., ['A', 'B', 'C', ...]).\n",
    "6. **Create labeled visualization**: Generates labels showing each node's letter and its visit order number (e.g., \"A(1)\", \"B(2)\").\n",
    "7. **Draw the graph**: Visualizes the tree with visit order labels and appropriate node sizing."
   ]
  },
  {
   "cell_type": "code",
   "execution_count": null,
   "id": "3e0269d6",
   "metadata": {},
   "outputs": [],
   "source": [
    "# BFS traversal with visit order labels\n",
    "visit_order = []\n",
    "def bfs_traversal(graph, start):\n",
    "    visited = set()\n",
    "    queue = deque([start])\n",
    "    visited.add(start)\n",
    "    visit_order.append(start)\n",
    "    while queue:\n",
    "        node = queue.popleft()\n",
    "        for neighbor in graph.neighbors(node):\n",
    "            if neighbor not in visited:\n",
    "                visited.add(neighbor)\n",
    "                queue.append(neighbor)\n",
    "                visit_order.append(neighbor)\n",
    "\n",
    "bfs_traversal(G_binary, 0)\n",
    "\n",
    "# Map node numbers to letters\n",
    "node_letters = {i: chr(65 + i) for i in range(len(G_binary.nodes()))}\n",
    "\n",
    "print(\"BFS visit order:\", [node_letters[n] for n in visit_order])\n",
    "\n",
    "# Create labels showing node letter and visit order\n",
    "labels = {node: f\"{node_letters[node]}({i+1})\" for i, node in enumerate(visit_order)}\n",
    "nx.draw(G_binary, pos=pos, labels=labels, node_size=1300)\n",
    "plt.title(\"BFS Traversal Order\")\n",
    "plt.show()"
   ]
  },
  {
   "cell_type": "markdown",
   "id": "fac4cdcf",
   "metadata": {},
   "source": [
    "### Depth-First Search (DFS) Traversal\n"
   ]
  },
  {
   "cell_type": "markdown",
   "id": "24b7f4d3",
   "metadata": {},
   "source": [
    "**How DFS Works Intuitively:**\n",
    "DFS explores the graph by going as deep as possible along each path before backtracking, like exploring a maze by always turning left or going straight until you hit a dead end. It's like diving deep into one branch of a tree before checking the others, similar to how you might search through nested folders on a computer.\n",
    "\n",
    "**Key Characteristics:**\n",
    "- Uses a **stack** (Last In, First Out) to keep track of nodes to visit next\n",
    "- Explores deeply along one path before trying alternatives\n",
    "- Good for finding if a path exists, but doesn't guarantee the shortest path\n",
    "\n",
    "This code cell demonstrates DFS traversal on the binary tree:\n",
    "1. **Initialize visit order list**: Creates an empty list to track the order nodes are visited.\n",
    "2. **Define DFS function**: Implements iterative DFS using a stack, marking nodes as visited and collecting them in depth-first order.\n",
    "3. **Run DFS from root**: Starts traversal from node 0 (root), exploring deeply before backtracking.\n",
    "4. **Map nodes to letters**: Recreates the letter mapping for consistency.\n",
    "5. **Print visit order**: Displays the DFS sequence using letter labels (e.g., ['A', 'C', 'G', ...]).\n",
    "6. **Create labeled visualization**: Generates labels showing each node's letter and its visit order number (e.g., \"A(1)\", \"C(2)\").\n",
    "7. **Draw the graph**: Visualizes the tree with visit order labels and appropriate node sizing."
   ]
  },
  {
   "cell_type": "code",
   "execution_count": null,
   "id": "27b64b3a",
   "metadata": {},
   "outputs": [],
   "source": [
    "# DFS traversal with visit order labels\n",
    "visit_order = []\n",
    "def dfs_traversal(graph, start):\n",
    "    visited = set()\n",
    "    stack = [start]\n",
    "    while stack:\n",
    "        node = stack.pop()\n",
    "        if node not in visited:\n",
    "            visited.add(node)\n",
    "            visit_order.append(node)\n",
    "            for neighbor in graph.neighbors(node):\n",
    "                if neighbor not in visited:\n",
    "                    stack.append(neighbor)\n",
    "\n",
    "dfs_traversal(G_binary, 0)\n",
    "\n",
    "# Map node numbers to letters\n",
    "node_letters = {i: chr(65 + i) for i in range(len(G_binary.nodes()))}\n",
    "\n",
    "print(\"DFS visit order:\", [node_letters[n] for n in visit_order])\n",
    "\n",
    "# Create labels showing node letter and visit order\n",
    "labels = {node: f\"{node_letters[node]}({i+1})\" for i, node in enumerate(visit_order)}\n",
    "nx.draw(G_binary, pos=pos, labels=labels, node_size=1800)\n",
    "plt.title(\"DFS Traversal Order\")\n",
    "plt.show()"
   ]
  },
  {
   "cell_type": "markdown",
   "id": "f268ab23",
   "metadata": {},
   "source": [
    "## Section 2: Graphs\n",
    "Use NetworkX to load/create sample graphs."
   ]
  },
  {
   "cell_type": "code",
   "execution_count": null,
   "id": "7dbb1aa4",
   "metadata": {},
   "outputs": [],
   "source": [
    "import networkx as nx\n",
    "import matplotlib.pyplot as plt\n",
    "\n",
    "# Create a sample graph\n",
    "G = nx.Graph()\n",
    "G.add_edges_from([(1,2),(2,3),(3,4),(4,1)])\n",
    "nx.draw(G, with_labels=True)\n",
    "plt.show()"
   ]
  },
  {
   "cell_type": "markdown",
   "id": "b8c2c2ea",
   "metadata": {},
   "source": [
    "## Section 2: BFS Example\n",
    "Pre-filled code for BFS on a grid graph; visualize with Matplotlib."
   ]
  },
  {
   "cell_type": "code",
   "execution_count": null,
   "id": "d2a8e2ba",
   "metadata": {},
   "outputs": [],
   "source": [
    "from collections import deque\n",
    "\n",
    "def bfs_grid(grid, start):\n",
    "    rows, cols = len(grid), len(grid[0])\n",
    "    visited = [[False for _ in range(cols)] for _ in range(rows)]\n",
    "    queue = deque([start])\n",
    "    visited[start[0]][start[1]] = True\n",
    "    directions = [(-1,0),(1,0),(0,-1),(0,1)]\n",
    "    while queue:\n",
    "        x, y = queue.popleft()\n",
    "        print(f'Visited: ({x},{y})')\n",
    "        for dx, dy in directions:\n",
    "            nx, ny = x + dx, y + dy\n",
    "            if 0 <= nx < rows and 0 <= ny < cols and not visited[nx][ny] and grid[nx][ny] == 0:\n",
    "                visited[nx][ny] = True\n",
    "                queue.append((nx, ny))\n",
    "\n",
    "# Example grid (0 = open, 1 = wall)\n",
    "grid = [\n",
    "    [0, 0, 0],\n",
    "    [0, 1, 0],\n",
    "    [0, 0, 0]\n",
    "]\n",
    "bfs_grid(grid, (0,0))\n",
    "\n",
    "# Visualize grid\n",
    "plt.imshow(grid, cmap='gray')\n",
    "plt.show()"
   ]
  },
  {
   "cell_type": "markdown",
   "id": "a33d9dd8",
   "metadata": {},
   "source": [
    "## Section 3: DFS Example\n",
    "Pre-filled code for DFS on a tree graph; show recursion vs. iterative."
   ]
  },
  {
   "cell_type": "code",
   "execution_count": null,
   "id": "f6764895",
   "metadata": {},
   "outputs": [],
   "source": [
    "# Recursive DFS\n",
    "def dfs_recursive(graph, node, visited):\n",
    "    visited.add(node)\n",
    "    print(f'Visited: {node}')\n",
    "    for neighbor in graph.get(node, []):\n",
    "        if neighbor not in visited:\n",
    "            dfs_recursive(graph, neighbor, visited)\n",
    "\n",
    "# Iterative DFS\n",
    "def dfs_iterative(graph, start):\n",
    "    visited = set()\n",
    "    stack = [start]\n",
    "    while stack:\n",
    "        node = stack.pop()\n",
    "        if node not in visited:\n",
    "            visited.add(node)\n",
    "            print(f'Visited: {node}')\n",
    "            for neighbor in reversed(graph.get(node, [])):\n",
    "                if neighbor not in visited:\n",
    "                    stack.append(neighbor)\n",
    "\n",
    "# Example tree graph (adjacency list)\n",
    "tree = {\n",
    "    1: [2, 3],\n",
    "    2: [4, 5],\n",
    "    3: [],\n",
    "    4: [],\n",
    "    5: []\n",
    "}\n",
    "\n",
    "print('Recursive DFS:')\n",
    "dfs_recursive(tree, 1, set())\n",
    "\n",
    "print('Iterative DFS:')\n",
    "dfs_iterative(tree, 1)\n",
    "\n",
    "# Visualize with NetworkX\n",
    "G_tree = nx.DiGraph(tree)\n",
    "nx.draw(G_tree, with_labels=True, arrows=True)\n",
    "plt.show()"
   ]
  },
  {
   "cell_type": "markdown",
   "id": "74dc9d22",
   "metadata": {},
   "source": [
    "## Section 4: Exercises\n",
    "Incomplete code: Students implement BFS to find shortest path; DFS to detect cycles in a provided graph file."
   ]
  },
  {
   "cell_type": "code",
   "execution_count": null,
   "id": "211d0ade",
   "metadata": {},
   "outputs": [],
   "source": [
    "# Exercise 1: BFS to find shortest path\n",
    "def bfs_shortest_path(graph, start, end):\n",
    "    # TODO: Implement BFS to find the shortest path from start to end\n",
    "    # Return the path as a list of nodes, or None if no path\n",
    "    pass\n",
    "\n",
    "# Load graph from graph1.json\n",
    "import json\n",
    "with open('graph1.json') as f:\n",
    "    data = json.load(f)\n",
    "\n",
    "# Assume data is {'graph': adjacency_list}\n",
    "graph = data['graph']\n",
    "\n",
    "# Example usage\n",
    "# path = bfs_shortest_path(graph, '0', '2')\n",
    "# print(path)"
   ]
  },
  {
   "cell_type": "code",
   "execution_count": null,
   "id": "96a59c2d",
   "metadata": {},
   "outputs": [],
   "source": [
    "# Exercise 2: DFS to detect cycles\n",
    "def dfs_cycle(graph, node, visited, rec_stack):\n",
    "    # TODO: Implement DFS to detect if there is a cycle in the graph\n",
    "    # Return True if cycle found, False otherwise\n",
    "    pass\n",
    "\n",
    "def has_cycle(graph):\n",
    "    visited = set()\n",
    "    rec_stack = set()\n",
    "    for node in graph:\n",
    "        if node not in visited:\n",
    "            if dfs_cycle(graph, node, visited, rec_stack):\n",
    "                return True\n",
    "    return False\n",
    "\n",
    "# Example usage\n",
    "# print(has_cycle(graph))"
   ]
  },
  {
   "cell_type": "code",
   "execution_count": null,
   "id": "23f3f8cf",
   "metadata": {},
   "outputs": [],
   "source": []
  }
 ],
 "metadata": {
  "kernelspec": {
   "display_name": "Python 3",
   "language": "python",
   "name": "python3"
  },
  "language_info": {
   "codemirror_mode": {
    "name": "ipython",
    "version": 3
   },
   "file_extension": ".py",
   "mimetype": "text/x-python",
   "name": "python",
   "nbconvert_exporter": "python",
   "pygments_lexer": "ipython3",
   "version": "3.11.3"
  }
 },
 "nbformat": 4,
 "nbformat_minor": 5
}
